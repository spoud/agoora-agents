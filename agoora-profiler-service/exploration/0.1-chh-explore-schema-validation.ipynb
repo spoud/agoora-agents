{
 "cells": [
  {
   "cell_type": "markdown",
   "metadata": {},
   "source": [
    "### Validate Inferred Schema from Data with Existing Schema"
   ]
  },
  {
   "cell_type": "code",
   "execution_count": 224,
   "metadata": {},
   "outputs": [],
   "source": [
    "import pandas as pd\n",
    "import json\n",
    "import ast\n",
    "from visions.typesets import CompleteSet\n",
    "import numpy as np"
   ]
  },
  {
   "cell_type": "code",
   "execution_count": 46,
   "metadata": {},
   "outputs": [],
   "source": [
    "# schema from schema registry\n",
    "schema = r'''\n",
    "{\n",
    "  \"schemas\": [\n",
    "    {\n",
    "      \"id\": \"c28fb5ca-8219-436e-bcf8-057d4cb3aa70\",\n",
    "      \"data_offer_state_id\": \"1baeed63-d360-47b7-94b9-915bb0191f2e\",\n",
    "      \"source\": \"INFERRED\",\n",
    "      \"encoding\": \"JSON\",\n",
    "      \"content\": \"{\\\"$schema\\\": \\\"http://json-schema.org/schema#\\\", \\\"type\\\": \\\"object\\\", \\\"properties\\\": {\\\"random_string\\\": {\\\"type\\\": \\\"string\\\"}, \\\"random_integer\\\": {\\\"type\\\": \\\"integer\\\"}, \\\"random_float\\\": {\\\"type\\\": \\\"number\\\"}, \\\"random_boolean\\\": {\\\"type\\\": \\\"boolean\\\"}}, \\\"required\\\": [\\\"random_boolean\\\", \\\"random_float\\\", \\\"random_integer\\\", \\\"random_string\\\"]}\",\n",
    "      \"created\": {\n",
    "        \"username\": \"spoud-sdm-kafka-profiler\",\n",
    "        \"timestamp\": {\n",
    "          \"seconds\": \"1593592254\",\n",
    "          \"nanos\": 880627000\n",
    "        }\n",
    "      },\n",
    "      \"last_seen\": {\n",
    "        \"seconds\": \"1593595565\",\n",
    "        \"nanos\": 4554000\n",
    "      },\n",
    "      \"privilege\": {\n",
    "        \"privilege\": [\n",
    "          \"LINK\",\n",
    "          \"NONE\",\n",
    "          \"ADMIN\",\n",
    "          \"READ_INFO\",\n",
    "          \"READ\",\n",
    "          \"WRITE\"\n",
    "        ],\n",
    "        \"path\": \"/default/\"\n",
    "      }\n",
    "    }\n",
    "  ]\n",
    "}\n",
    "\n",
    "'''"
   ]
  },
  {
   "cell_type": "code",
   "execution_count": 7,
   "metadata": {},
   "outputs": [],
   "source": [
    "# samples from pandas kafka-profiler\n",
    "samples = '''\n",
    "{\"random_string\": \"wvvkuyfdjp\", \"random_integer\": 502, \"random_float\": 0.9752454439023497, \"random_boolean\": true}\n",
    "{\"random_string\": \"aymtvxjtwz\", \"random_integer\": 860, \"random_float\": 0.9027580964349539, \"random_boolean\": false}\n",
    "{\"random_string\": \"vaolbivfof\", \"random_integer\": 351, \"random_float\": 0.9236287647478101, \"random_boolean\": true}\n",
    "{\"random_string\": \"zbbpezhjgo\", \"random_integer\": 622, \"random_float\": 0.11856938563671815, \"random_boolean\": true}\n",
    "{\"random_string\": \"tffwklihfx\", \"random_integer\": 692, \"random_float\": 0.8876732887875933, \"random_boolean\": true}\n",
    "{\"random_string\": \"vhtljjbezh\", \"random_integer\": 2, \"random_float\": 0.9077423852437432, \"random_boolean\": true}\n",
    "{\"random_string\": \"rzphlmtmus\", \"random_integer\": 696, \"random_float\": 0.7850585269196347, \"random_boolean\": false}\n",
    "{\"random_string\": \"sdlqpjhhcs\", \"random_integer\": 855, \"random_float\": 0.9819586576361585, \"random_boolean\": true}\n",
    "{\"random_string\": \"rgryorahcr\", \"random_integer\": 147, \"random_float\": 0.48084257765078875, \"random_boolean\": true}\n",
    "{\"random_string\": \"hmudbkazpo\", \"random_integer\": 309, \"random_float\": 0.07027422214145584, \"random_boolean\": false}\n",
    "{\"random_string\": \"vnewmexoih\", \"random_integer\": 356, \"random_float\": 0.9328964419808714, \"random_boolean\": true}\n",
    "{\"random_string\": \"qmwjaouamg\", \"random_integer\": 376, \"random_float\": 0.5872442457740908, \"random_boolean\": true}\n",
    "{\"random_string\": \"spsmibvvdd\", \"random_integer\": 575, \"random_float\": 0.38261395969774337, \"random_boolean\": false}\n",
    "{\"random_string\": \"cnyfzqqtkm\", \"random_integer\": 843, \"random_float\": 0.7115285847863924, \"random_boolean\": true}\n",
    "{\"random_string\": \"oomjythkfx\", \"random_integer\": 261, \"random_float\": 0.5624835234081578, \"random_boolean\": false}\n",
    "{\"random_string\": \"lhrswwdwfv\", \"random_integer\": 729, \"random_float\": 0.39471356088979337, \"random_boolean\": true}\n",
    "{\"random_string\": \"auskkiztwo\", \"random_integer\": 311, \"random_float\": 0.07334293049291563, \"random_boolean\": false}\n",
    "{\"random_string\": \"okovnasiev\", \"random_integer\": 623, \"random_float\": 0.4056917539384999, \"random_boolean\": true}\n",
    "{\"random_string\": \"baejdnchnz\", \"random_integer\": 467, \"random_float\": 0.4499033453809097, \"random_boolean\": false}\n",
    "{\"random_string\": \"rhoxsuiykr\", \"random_integer\": 669, \"random_float\": 0.8635202434447838, \"random_boolean\": false}\n",
    "{\"random_string\": \"xwxwzydfqd\", \"random_integer\": 385, \"random_float\": 0.062110682117167415, \"random_boolean\": true}\n",
    "{\"random_string\": \"awzdtvfywq\", \"random_integer\": 600, \"random_float\": 0.9326239593142196, \"random_boolean\": true}\n",
    "{\"random_string\": \"gjotzehclo\", \"random_integer\": 894, \"random_float\": 0.25929448092143925, \"random_boolean\": false}\n",
    "{\"random_string\": \"eyazhmwqfr\", \"random_integer\": 56, \"random_float\": 0.48099136669964004, \"random_boolean\": false}\n",
    "{\"random_string\": \"nwosdqqvpe\", \"random_integer\": 521, \"random_float\": 0.06270766544379236, \"random_boolean\": true}\n",
    "{\"random_string\": \"ubqtytuqpr\", \"random_integer\": 810, \"random_float\": 0.7167855116538012, \"random_boolean\": false}\n",
    "{\"random_string\": \"csrdggrfwm\", \"random_integer\": 607, \"random_float\": 0.25369408622809664, \"random_boolean\": true}\n",
    "{\"random_string\": \"eatxfosnwm\", \"random_integer\": 188, \"random_float\": 0.29444418087368984, \"random_boolean\": false}\n",
    "{\"random_string\": \"gsjjeyqtfx\", \"random_integer\": 848, \"random_float\": 0.61789618258569, \"random_boolean\": true}\n",
    "{\"random_string\": \"fciwmkiyld\", \"random_integer\": 608, \"random_float\": 0.45189560474927004, \"random_boolean\": false}\n",
    "'''"
   ]
  },
  {
   "cell_type": "code",
   "execution_count": 259,
   "metadata": {},
   "outputs": [
    {
     "data": {
      "text/plain": [
       "[{'random_string': 'wvvkuyfdjp',\n",
       "  'random_integer': 502,\n",
       "  'random_float': 0.9752454439023497,\n",
       "  'random_boolean': True},\n",
       " {'random_string': 'aymtvxjtwz',\n",
       "  'random_integer': 860,\n",
       "  'random_float': 0.9027580964349539,\n",
       "  'random_boolean': False},\n",
       " {'random_string': 'vaolbivfof',\n",
       "  'random_integer': 351,\n",
       "  'random_float': 0.9236287647478101,\n",
       "  'random_boolean': True}]"
      ]
     },
     "execution_count": 259,
     "metadata": {},
     "output_type": "execute_result"
    }
   ],
   "source": [
    "lines = iter(samples.splitlines())\n",
    "\n",
    "# extract events from data sample\n",
    "events = list()\n",
    "\n",
    "for line in lines:\n",
    "    if not line:\n",
    "        continue\n",
    "    result_dict = json.loads(line)\n",
    "    events.append(result_dict)\n",
    "\n",
    "events[:3]"
   ]
  },
  {
   "cell_type": "code",
   "execution_count": 260,
   "metadata": {},
   "outputs": [
    {
     "data": {
      "text/plain": [
       "{'schemas': [{'id': 'c28fb5ca-8219-436e-bcf8-057d4cb3aa70',\n",
       "   'data_offer_state_id': '1baeed63-d360-47b7-94b9-915bb0191f2e',\n",
       "   'source': 'INFERRED',\n",
       "   'encoding': 'JSON',\n",
       "   'content': '{\"$schema\": \"http://json-schema.org/schema#\", \"type\": \"object\", \"properties\": {\"random_string\": {\"type\": \"string\"}, \"random_integer\": {\"type\": \"integer\"}, \"random_float\": {\"type\": \"number\"}, \"random_boolean\": {\"type\": \"boolean\"}}, \"required\": [\"random_boolean\", \"random_float\", \"random_integer\", \"random_string\"]}',\n",
       "   'created': {'username': 'spoud-sdm-kafka-profiler',\n",
       "    'timestamp': {'seconds': '1593592254', 'nanos': 880627000}},\n",
       "   'last_seen': {'seconds': '1593595565', 'nanos': 4554000},\n",
       "   'privilege': {'privilege': ['LINK',\n",
       "     'NONE',\n",
       "     'ADMIN',\n",
       "     'READ_INFO',\n",
       "     'READ',\n",
       "     'WRITE'],\n",
       "    'path': '/default/'}}]}"
      ]
     },
     "execution_count": 260,
     "metadata": {},
     "output_type": "execute_result"
    }
   ],
   "source": [
    "schema_obj = json.loads(schema)\n",
    "schema_obj"
   ]
  },
  {
   "cell_type": "code",
   "execution_count": 261,
   "metadata": {},
   "outputs": [
    {
     "data": {
      "text/plain": [
       "{'random_string': 'string',\n",
       " 'random_integer': 'integer',\n",
       " 'random_float': 'number',\n",
       " 'random_boolean': 'boolean'}"
      ]
     },
     "execution_count": 261,
     "metadata": {},
     "output_type": "execute_result"
    }
   ],
   "source": [
    "types = dict()\n",
    "\n",
    "# load types from schema\n",
    "for p in json.loads(schema_obj[\"schemas\"][0][\"content\"])[\"properties\"].items():\n",
    "    types[p[0]] = p[1]['type']\n",
    "    \n",
    "types"
   ]
  },
  {
   "cell_type": "code",
   "execution_count": 262,
   "metadata": {},
   "outputs": [],
   "source": [
    "# import builtins\n",
    "# builtin_types = [getattr(builtins, d) \n",
    "#                 for d in dir(builtins) if isinstance(getattr(builtins, d), type)]"
   ]
  },
  {
   "cell_type": "code",
   "execution_count": 263,
   "metadata": {},
   "outputs": [],
   "source": [
    "# Boolean, Float, Integer, String\n",
    "\n",
    "def create_types(schema_string):\n",
    "    if schema_string == 'boolean':\n",
    "        return [bool]\n",
    "    elif (schema_string == 'number'):\n",
    "        return [int, float]\n",
    "    elif (schema_string == 'integer'):\n",
    "        return [int]\n",
    "    elif schema_string == 'string':\n",
    "        return [str]\n",
    "    else:\n",
    "        return None"
   ]
  },
  {
   "cell_type": "code",
   "execution_count": 264,
   "metadata": {},
   "outputs": [],
   "source": [
    "match =  list()\n",
    "\n",
    "for e in events:\n",
    "    for key in e.keys():\n",
    "        schema_types = create_types(types[key])\n",
    "        if type(e[key]) in schema_types:\n",
    "            match.append(True)\n",
    "        else:\n",
    "            match.append(False)\n",
    "            print(f\"No match: {e[key]}: {schema_types}\")"
   ]
  },
  {
   "cell_type": "code",
   "execution_count": 265,
   "metadata": {},
   "outputs": [
    {
     "name": "stdout",
     "output_type": "stream",
     "text": [
      "Attribute quality matching with schema: 100.0%\n"
     ]
    }
   ],
   "source": [
    "print(f\"Attribute quality matching with schema: {np.mean(match)*100}%\")"
   ]
  }
 ],
 "metadata": {
  "kernelspec": {
   "display_name": "Python 3",
   "language": "python",
   "name": "python3"
  },
  "language_info": {
   "codemirror_mode": {
    "name": "ipython",
    "version": 3
   },
   "file_extension": ".py",
   "mimetype": "text/x-python",
   "name": "python",
   "nbconvert_exporter": "python",
   "pygments_lexer": "ipython3",
   "version": "3.7.7"
  }
 },
 "nbformat": 4,
 "nbformat_minor": 4
}